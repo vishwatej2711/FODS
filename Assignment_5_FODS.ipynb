{
 "cells": [
  {
   "cell_type": "code",
   "execution_count": null,
   "id": "d689c831",
   "metadata": {},
   "outputs": [],
   "source": [
    "# ASSIGNMENT 5\n",
    "# 122B1F073\n",
    "# TYITB073\n",
    "# Perform the following operations using Python on the Air  quality data sets a. Data cleaning b. Data transformation"
   ]
  },
  {
   "cell_type": "code",
   "execution_count": 1,
   "id": "718ee326-c927-48fc-ae5d-68857a172f0c",
   "metadata": {},
   "outputs": [],
   "source": [
    "import pandas as pd\n",
    "import numpy as np"
   ]
  },
  {
   "cell_type": "code",
   "execution_count": 2,
   "id": "76d15353-03aa-4e63-8f38-ea555ca0c7cf",
   "metadata": {},
   "outputs": [],
   "source": [
    "df = pd.read_csv('Desktop/FODS/Air_Quality.csv')"
   ]
  },
  {
   "cell_type": "code",
   "execution_count": 6,
   "id": "44c64880-2c16-41d6-9813-e8b1b46f2ce6",
   "metadata": {},
   "outputs": [
    {
     "name": "stdout",
     "output_type": "stream",
     "text": [
      "<class 'pandas.core.frame.DataFrame'>\n",
      "RangeIndex: 16218 entries, 0 to 16217\n",
      "Data columns (total 12 columns):\n",
      " #   Column          Non-Null Count  Dtype  \n",
      "---  ------          --------------  -----  \n",
      " 0   Unique ID       16218 non-null  int64  \n",
      " 1   Indicator ID    16218 non-null  int64  \n",
      " 2   Name            16218 non-null  object \n",
      " 3   Measure         16218 non-null  object \n",
      " 4   Measure Info    16218 non-null  object \n",
      " 5   Geo Type Name   16218 non-null  object \n",
      " 6   Geo Join ID     16218 non-null  int64  \n",
      " 7   Geo Place Name  16218 non-null  object \n",
      " 8   Time Period     16218 non-null  object \n",
      " 9   Start_Date      16218 non-null  object \n",
      " 10  Data Value      16218 non-null  float64\n",
      " 11  Message         0 non-null      float64\n",
      "dtypes: float64(2), int64(3), object(7)\n",
      "memory usage: 1.5+ MB\n",
      "None\n",
      "           Unique ID  Indicator ID   Geo Join ID    Data Value  Message\n",
      "count   16218.000000  16218.000000  1.621800e+04  16218.000000      0.0\n",
      "mean   372730.417746    427.803613  6.097103e+05     19.975917      NaN\n",
      "std    215507.613560    110.921411  7.893388e+06     21.322349      NaN\n",
      "min    121644.000000    365.000000  1.000000e+00      0.000000      NaN\n",
      "25%    173211.250000    365.000000  2.020000e+02      9.050000      NaN\n",
      "50%    325262.500000    375.000000  3.030000e+02     15.300000      NaN\n",
      "75%    605270.750000    386.000000  4.040000e+02     26.037500      NaN\n",
      "max    799868.000000    661.000000  1.051061e+08    424.700000      NaN\n"
     ]
    }
   ],
   "source": [
    "print(df.info())   # See data types, non-null counts\n",
    "print(df.describe())  # Get summary stats for numeric columns\n"
   ]
  },
  {
   "cell_type": "code",
   "execution_count": 13,
   "id": "682eef50-3381-4b80-9896-a6551ce50034",
   "metadata": {},
   "outputs": [],
   "source": [
    "# 1. Remove the 'Message' column (empty column )\n",
    "df_cleaned = df.drop(columns=['Message'])"
   ]
  },
  {
   "cell_type": "code",
   "execution_count": 14,
   "id": "418faa21-2622-431d-854b-c54c5deedc7c",
   "metadata": {},
   "outputs": [],
   "source": [
    "# 2. Convert 'Start_Date' to datetime\n",
    "df_cleaned['Start_Date'] = pd.to_datetime(df_cleaned['Start_Date'], errors='coerce')"
   ]
  },
  {
   "cell_type": "code",
   "execution_count": 15,
   "id": "65866a86-072e-413e-b936-3947c90a9e42",
   "metadata": {},
   "outputs": [],
   "source": [
    "# 4. Check for erroneous values (e.g., negative 'Data Value') and replace them with NaN\n",
    "df_cleaned['Data Value'] = df_cleaned['Data Value'].apply(lambda x: np.nan if x < 0 else x)"
   ]
  },
  {
   "cell_type": "code",
   "execution_count": 16,
   "id": "1e95a6d3-7145-450a-a090-8c0b089b7404",
   "metadata": {},
   "outputs": [],
   "source": [
    "# 6. Remove duplicates (if any exist)\n",
    "df_cleaned = df_cleaned.drop_duplicates()"
   ]
  },
  {
   "cell_type": "code",
   "execution_count": 17,
   "id": "e6433807-13cc-434d-9783-46310000556b",
   "metadata": {},
   "outputs": [
    {
     "name": "stdout",
     "output_type": "stream",
     "text": [
      "<class 'pandas.core.frame.DataFrame'>\n",
      "RangeIndex: 16218 entries, 0 to 16217\n",
      "Data columns (total 11 columns):\n",
      " #   Column          Non-Null Count  Dtype         \n",
      "---  ------          --------------  -----         \n",
      " 0   Unique ID       16218 non-null  int64         \n",
      " 1   Indicator ID    16218 non-null  int64         \n",
      " 2   Name            16218 non-null  object        \n",
      " 3   Measure         16218 non-null  object        \n",
      " 4   Measure Info    16218 non-null  object        \n",
      " 5   Geo Type Name   16218 non-null  object        \n",
      " 6   Geo Join ID     16218 non-null  int64         \n",
      " 7   Geo Place Name  16218 non-null  object        \n",
      " 8   Time Period     16218 non-null  object        \n",
      " 9   Start_Date      16218 non-null  datetime64[ns]\n",
      " 10  Data Value      16218 non-null  float64       \n",
      "dtypes: datetime64[ns](1), float64(1), int64(3), object(6)\n",
      "memory usage: 1.4+ MB\n"
     ]
    },
    {
     "data": {
      "text/html": [
       "<div>\n",
       "<style scoped>\n",
       "    .dataframe tbody tr th:only-of-type {\n",
       "        vertical-align: middle;\n",
       "    }\n",
       "\n",
       "    .dataframe tbody tr th {\n",
       "        vertical-align: top;\n",
       "    }\n",
       "\n",
       "    .dataframe thead th {\n",
       "        text-align: right;\n",
       "    }\n",
       "</style>\n",
       "<table border=\"1\" class=\"dataframe\">\n",
       "  <thead>\n",
       "    <tr style=\"text-align: right;\">\n",
       "      <th></th>\n",
       "      <th>Unique ID</th>\n",
       "      <th>Indicator ID</th>\n",
       "      <th>Name</th>\n",
       "      <th>Measure</th>\n",
       "      <th>Measure Info</th>\n",
       "      <th>Geo Type Name</th>\n",
       "      <th>Geo Join ID</th>\n",
       "      <th>Geo Place Name</th>\n",
       "      <th>Time Period</th>\n",
       "      <th>Start_Date</th>\n",
       "      <th>Data Value</th>\n",
       "    </tr>\n",
       "  </thead>\n",
       "  <tbody>\n",
       "    <tr>\n",
       "      <th>0</th>\n",
       "      <td>172653</td>\n",
       "      <td>375</td>\n",
       "      <td>Nitrogen dioxide (NO2)</td>\n",
       "      <td>Mean</td>\n",
       "      <td>ppb</td>\n",
       "      <td>UHF34</td>\n",
       "      <td>203</td>\n",
       "      <td>Bedford Stuyvesant - Crown Heights</td>\n",
       "      <td>Annual Average 2011</td>\n",
       "      <td>2010-12-01</td>\n",
       "      <td>25.30</td>\n",
       "    </tr>\n",
       "    <tr>\n",
       "      <th>1</th>\n",
       "      <td>172585</td>\n",
       "      <td>375</td>\n",
       "      <td>Nitrogen dioxide (NO2)</td>\n",
       "      <td>Mean</td>\n",
       "      <td>ppb</td>\n",
       "      <td>UHF34</td>\n",
       "      <td>203</td>\n",
       "      <td>Bedford Stuyvesant - Crown Heights</td>\n",
       "      <td>Annual Average 2009</td>\n",
       "      <td>2008-12-01</td>\n",
       "      <td>26.93</td>\n",
       "    </tr>\n",
       "    <tr>\n",
       "      <th>2</th>\n",
       "      <td>336637</td>\n",
       "      <td>375</td>\n",
       "      <td>Nitrogen dioxide (NO2)</td>\n",
       "      <td>Mean</td>\n",
       "      <td>ppb</td>\n",
       "      <td>UHF34</td>\n",
       "      <td>204</td>\n",
       "      <td>East New York</td>\n",
       "      <td>Annual Average 2015</td>\n",
       "      <td>2015-01-01</td>\n",
       "      <td>19.09</td>\n",
       "    </tr>\n",
       "    <tr>\n",
       "      <th>3</th>\n",
       "      <td>336622</td>\n",
       "      <td>375</td>\n",
       "      <td>Nitrogen dioxide (NO2)</td>\n",
       "      <td>Mean</td>\n",
       "      <td>ppb</td>\n",
       "      <td>UHF34</td>\n",
       "      <td>103</td>\n",
       "      <td>Fordham - Bronx Pk</td>\n",
       "      <td>Annual Average 2015</td>\n",
       "      <td>2015-01-01</td>\n",
       "      <td>19.76</td>\n",
       "    </tr>\n",
       "    <tr>\n",
       "      <th>4</th>\n",
       "      <td>172582</td>\n",
       "      <td>375</td>\n",
       "      <td>Nitrogen dioxide (NO2)</td>\n",
       "      <td>Mean</td>\n",
       "      <td>ppb</td>\n",
       "      <td>UHF34</td>\n",
       "      <td>104</td>\n",
       "      <td>Pelham - Throgs Neck</td>\n",
       "      <td>Annual Average 2009</td>\n",
       "      <td>2008-12-01</td>\n",
       "      <td>22.83</td>\n",
       "    </tr>\n",
       "  </tbody>\n",
       "</table>\n",
       "</div>"
      ],
      "text/plain": [
       "   Unique ID  Indicator ID                    Name Measure Measure Info  \\\n",
       "0     172653           375  Nitrogen dioxide (NO2)    Mean          ppb   \n",
       "1     172585           375  Nitrogen dioxide (NO2)    Mean          ppb   \n",
       "2     336637           375  Nitrogen dioxide (NO2)    Mean          ppb   \n",
       "3     336622           375  Nitrogen dioxide (NO2)    Mean          ppb   \n",
       "4     172582           375  Nitrogen dioxide (NO2)    Mean          ppb   \n",
       "\n",
       "  Geo Type Name  Geo Join ID                      Geo Place Name  \\\n",
       "0         UHF34          203  Bedford Stuyvesant - Crown Heights   \n",
       "1         UHF34          203  Bedford Stuyvesant - Crown Heights   \n",
       "2         UHF34          204                       East New York   \n",
       "3         UHF34          103                  Fordham - Bronx Pk   \n",
       "4         UHF34          104                Pelham - Throgs Neck   \n",
       "\n",
       "           Time Period Start_Date  Data Value  \n",
       "0  Annual Average 2011 2010-12-01       25.30  \n",
       "1  Annual Average 2009 2008-12-01       26.93  \n",
       "2  Annual Average 2015 2015-01-01       19.09  \n",
       "3  Annual Average 2015 2015-01-01       19.76  \n",
       "4  Annual Average 2009 2008-12-01       22.83  "
      ]
     },
     "execution_count": 17,
     "metadata": {},
     "output_type": "execute_result"
    }
   ],
   "source": [
    "# Final overview of cleaned data\n",
    "df_cleaned.info()  # Display summary information about the DataFrame\n",
    "df_cleaned.head()  # Display the first few rows of the cleaned DataFrame"
   ]
  },
  {
   "cell_type": "code",
   "execution_count": 25,
   "id": "89f9eaf0-5508-4fb0-b20c-5351111008a0",
   "metadata": {},
   "outputs": [],
   "source": [
    "# Data Cleaning is over \n"
   ]
  },
  {
   "cell_type": "code",
   "execution_count": 26,
   "id": "6b8d633e-ba7d-45ba-a5fb-08d2eeec01d3",
   "metadata": {},
   "outputs": [],
   "source": [
    "# 1. Load the cleaned dataset (assuming it's already cleaned)\n",
    "df_transformed = df_cleaned.copy()"
   ]
  },
  {
   "cell_type": "code",
   "execution_count": 27,
   "id": "40bf8bad-f75f-45e5-9782-e26f4ab09218",
   "metadata": {},
   "outputs": [],
   "source": [
    "# 2. Create new features: Extract year and month from 'Start_Date'\n",
    "df_transformed['Year'] = df_transformed['Start_Date'].dt.year\n",
    "df_transformed['Month'] = df_transformed['Start_Date'].dt.month"
   ]
  },
  {
   "cell_type": "code",
   "execution_count": 28,
   "id": "2a098645-5822-417f-92cf-f0818ff2120c",
   "metadata": {},
   "outputs": [],
   "source": [
    "# 3. Pivot table: Average 'Data Value' by 'Geo Place Name' and 'Year'\n",
    "pivot_table = df_transformed.pivot_table(\n",
    "    values='Data Value', \n",
    "    index='Geo Place Name', \n",
    "    columns='Year', \n",
    "    aggfunc='mean'\n",
    ").reset_index()"
   ]
  },
  {
   "cell_type": "code",
   "execution_count": 29,
   "id": "702993a8-4019-412b-b5c3-a6f0c2c388b8",
   "metadata": {},
   "outputs": [],
   "source": [
    "# 4. Normalize 'Data Value' (scaling between 0 and 1)\n",
    "df_transformed['Normalized Value'] = (\n",
    "    (df_transformed['Data Value'] - df_transformed['Data Value'].min()) / \n",
    "    (df_transformed['Data Value'].max() - df_transformed['Data Value'].min())\n",
    ")"
   ]
  },
  {
   "cell_type": "code",
   "execution_count": 30,
   "id": "1498aba9-3306-4922-b102-a1b84f44f022",
   "metadata": {},
   "outputs": [],
   "source": [
    "# 5. Aggregation: Group data by 'Year' and calculate average 'Data Value'\n",
    "yearly_avg = df_transformed.groupby('Year')['Data Value'].mean().reset_index()"
   ]
  },
  {
   "cell_type": "code",
   "execution_count": 31,
   "id": "a957f657-9aa2-4f96-8dce-1ee138e012fe",
   "metadata": {},
   "outputs": [],
   "source": [
    "# 6. Rename columns for better readability\n",
    "df_transformed.rename(columns={'Geo Place Name': 'Location'}, inplace=True)"
   ]
  },
  {
   "cell_type": "code",
   "execution_count": 32,
   "id": "e7543ed8-5e05-4f30-a7aa-381a82fbac22",
   "metadata": {},
   "outputs": [
    {
     "name": "stdout",
     "output_type": "stream",
     "text": [
      "Pivot Table (Average Data Value by Location and Year):\n",
      "Year                      Geo Place Name       2005     2008       2009  \\\n",
      "0     Bay Ridge and Dyker Heights (CD10)  20.466667  18.6025  19.141250   \n",
      "1                  Bayside - Little Neck  15.626667  16.8175  15.447222   \n",
      "2      Bayside Little Neck-Fresh Meadows        NaN  17.4675  18.045000   \n",
      "3         Bayside and Little Neck (CD11)  23.366667  17.0375  17.846250   \n",
      "4               Bedford Stuyvesant (CD3)  17.266667  21.2925  19.948750   \n",
      "\n",
      "Year       2010       2011       2012       2013       2014       2015  \\\n",
      "0     19.687143  14.008889  17.445714  17.554286  17.518000  15.536667   \n",
      "1     18.327143  13.094444  12.942353  12.867000  12.328571  11.119545   \n",
      "2     18.767143  16.814286  16.380000  17.010000  17.026000  14.758889   \n",
      "3     18.511429  13.238889  16.101429  16.797143  16.934000  14.611111   \n",
      "4     21.031429  15.114444  18.751429  18.880000  18.400000  16.677778   \n",
      "\n",
      "Year      2016       2017       2018       2019       2020    2021  \n",
      "0     17.89500  15.551429  14.722857  15.248571  13.781429  14.516  \n",
      "1     19.04875  14.934286  14.007143  14.201429  12.868571  13.642  \n",
      "2     17.15200  15.221429  14.260000  14.434286  13.061429  13.800  \n",
      "3     18.69375  15.085714  14.151429  14.332857  13.004286  13.784  \n",
      "4     17.12375  16.790000  15.921429  16.290000  14.641429  15.230  \n",
      "\n",
      "Yearly Average Data Value:\n",
      "   Year  Data Value\n",
      "0  2005   32.604848\n",
      "1  2008   20.277305\n",
      "2  2009   26.050075\n",
      "3  2010   20.461935\n",
      "4  2011   15.529592\n",
      "\n",
      "Transformed Data (First 5 Rows):\n",
      "   Unique ID  Indicator ID                    Name Measure Measure Info  \\\n",
      "0     172653           375  Nitrogen dioxide (NO2)    Mean          ppb   \n",
      "1     172585           375  Nitrogen dioxide (NO2)    Mean          ppb   \n",
      "2     336637           375  Nitrogen dioxide (NO2)    Mean          ppb   \n",
      "3     336622           375  Nitrogen dioxide (NO2)    Mean          ppb   \n",
      "4     172582           375  Nitrogen dioxide (NO2)    Mean          ppb   \n",
      "\n",
      "  Geo Type Name  Geo Join ID                            Location  \\\n",
      "0         UHF34          203  Bedford Stuyvesant - Crown Heights   \n",
      "1         UHF34          203  Bedford Stuyvesant - Crown Heights   \n",
      "2         UHF34          204                       East New York   \n",
      "3         UHF34          103                  Fordham - Bronx Pk   \n",
      "4         UHF34          104                Pelham - Throgs Neck   \n",
      "\n",
      "           Time Period Start_Date  Data Value  Year  Month  \\\n",
      "0  Annual Average 2011 2010-12-01       25.30  2010     12   \n",
      "1  Annual Average 2009 2008-12-01       26.93  2008     12   \n",
      "2  Annual Average 2015 2015-01-01       19.09  2015      1   \n",
      "3  Annual Average 2015 2015-01-01       19.76  2015      1   \n",
      "4  Annual Average 2009 2008-12-01       22.83  2008     12   \n",
      "\n",
      "   Data Value Standardized  Normalized Value  \n",
      "0                 0.249703          0.059571  \n",
      "1                 0.326151          0.063409  \n",
      "2                -0.041550          0.044949  \n",
      "3                -0.010127          0.046527  \n",
      "4                 0.133858          0.053756  \n"
     ]
    }
   ],
   "source": [
    "# Display transformed data\n",
    "print(\"Pivot Table (Average Data Value by Location and Year):\")\n",
    "print(pivot_table.head())\n",
    "\n",
    "print(\"\\nYearly Average Data Value:\")\n",
    "print(yearly_avg.head())\n",
    "\n",
    "print(\"\\nTransformed Data (First 5 Rows):\")\n",
    "print(df_transformed.head())"
   ]
  },
  {
   "cell_type": "code",
   "execution_count": null,
   "id": "5ae6bae8-de35-4e80-a98c-b00a0a703734",
   "metadata": {},
   "outputs": [],
   "source": []
  }
 ],
 "metadata": {
  "kernelspec": {
   "display_name": "Python 3 (ipykernel)",
   "language": "python",
   "name": "python3"
  },
  "language_info": {
   "codemirror_mode": {
    "name": "ipython",
    "version": 3
   },
   "file_extension": ".py",
   "mimetype": "text/x-python",
   "name": "python",
   "nbconvert_exporter": "python",
   "pygments_lexer": "ipython3",
   "version": "3.12.3"
  }
 },
 "nbformat": 4,
 "nbformat_minor": 5
}
