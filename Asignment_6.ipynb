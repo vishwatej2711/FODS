{
 "cells": [
  {
   "cell_type": "code",
   "execution_count": 1,
   "id": "1eb3548c-9470-4642-931d-94863a35d577",
   "metadata": {},
   "outputs": [],
   "source": [
    "# ASSIGNMENT 6\n",
    "# 122B1F073\n",
    "# Perform the following operations using Python on the heart  diseases data sets a. Data cleaning b. Error-correcting"
   ]
  },
  {
   "cell_type": "code",
   "execution_count": 2,
   "id": "66f78438-058a-4516-9a44-a845367fb335",
   "metadata": {},
   "outputs": [],
   "source": [
    "import pandas as pd"
   ]
  },
  {
   "cell_type": "code",
   "execution_count": 3,
   "id": "c805764f-bd02-4c7b-95e5-f71fb58603d2",
   "metadata": {},
   "outputs": [],
   "source": [
    "# Load the dataset from your local path\n",
    "df = pd.read_csv('Desktop/FODS/heart.csv')"
   ]
  },
  {
   "cell_type": "code",
   "execution_count": 4,
   "id": "b28a6b27-fbf4-4fe1-b318-8e9ef7c21d23",
   "metadata": {},
   "outputs": [],
   "source": [
    "# Data Cleaning\n",
    "# 1. Convert categorical columns to 'category' data type\n",
    "categorical_columns = ['Sex', 'ChestPainType', 'RestingECG', 'ExerciseAngina', 'ST_Slope']\n",
    "df[categorical_columns] = df[categorical_columns].astype('category')"
   ]
  },
  {
   "cell_type": "code",
   "execution_count": 5,
   "id": "df57485c-9b12-48e3-9dbc-11247780331e",
   "metadata": {},
   "outputs": [],
   "source": [
    "# 2. Remove invalid values from RestingBP and Cholesterol, and use .copy() to avoid warnings\n",
    "df_cleaned = df[(df['RestingBP'] > 0) & (df['Cholesterol'] > 0)].copy()"
   ]
  },
  {
   "cell_type": "code",
   "execution_count": null,
   "id": "7a5676dd-0df7-40fb-ad09-6ff7a82a950e",
   "metadata": {},
   "outputs": [],
   "source": []
  }
 ],
 "metadata": {
  "kernelspec": {
   "display_name": "Python 3 (ipykernel)",
   "language": "python",
   "name": "python3"
  },
  "language_info": {
   "codemirror_mode": {
    "name": "ipython",
    "version": 3
   },
   "file_extension": ".py",
   "mimetype": "text/x-python",
   "name": "python",
   "nbconvert_exporter": "python",
   "pygments_lexer": "ipython3",
   "version": "3.12.3"
  }
 },
 "nbformat": 4,
 "nbformat_minor": 5
}
